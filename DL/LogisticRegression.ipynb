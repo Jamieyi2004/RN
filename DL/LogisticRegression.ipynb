{
 "cells": [
  {
   "cell_type": "code",
   "execution_count": null,
   "metadata": {},
   "outputs": [],
   "source": [
    "# GPU 更擅长SIMD \n",
    "# single instrument multi data\n",
    "# 尽量避免for循环   \n",
    "import numpy as np\n",
    "import time\n",
    "\n",
    "a = np.random.rand(1000000)\n",
    "b = np.random.rand(1000000)\n",
    "\n",
    "begin = time.time()\n",
    "c = np.dot(a,b)\n",
    "end = time.time()\n",
    "\n",
    "print(str(1000*(end-begin)))\n",
    "\n",
    "c = 0\n",
    "begin = time.time()\n",
    "for i in range(1000000):\n",
    "    c+=a[i]*b[i]\n",
    "end = time.time()\n",
    "\n",
    "print(str(1000*(end-begin)))"
   ]
  },
  {
   "cell_type": "code",
   "execution_count": null,
   "metadata": {},
   "outputs": [],
   "source": [
    "\n",
    "# 向量化操作\n",
    "v = np.random.rand(1000000)\n",
    "u = np.exp(v)\n",
    "u = np.log(v)\n",
    "u = np.abs(v)\n",
    "u = np.maximum(v,0)\n",
    "v**2\n"
   ]
  },
  {
   "cell_type": "code",
   "execution_count": null,
   "metadata": {},
   "outputs": [
    {
     "name": "stdout",
     "output_type": "stream",
     "text": [
      "(5,)\n",
      "[ 1.15515083 -1.73922278  0.65349565 -0.58321912  0.3441691 ]\n",
      "5.244922783980335\n"
     ]
    }
   ],
   "source": [
    "import numpy as np\n",
    "a = np.random.randn(5)\n",
    "print(a.shape) #(5,) 秩为1的数组 避免这种出现 行为和行向量列向量不一致\n",
    "print(a.T)\n",
    "print(np.dot(a,a.T)) # 标量"
   ]
  },
  {
   "cell_type": "code",
   "execution_count": 12,
   "metadata": {},
   "outputs": [
    {
     "name": "stdout",
     "output_type": "stream",
     "text": [
      "[[-1.17518427]\n",
      " [-2.24968406]\n",
      " [-2.0624335 ]\n",
      " [ 0.21953249]\n",
      " [ 0.70446035]] [[-1.17518427 -2.24968406 -2.0624335   0.21953249  0.70446035]]\n",
      "[[-1.17518427]\n",
      " [-2.24968406]\n",
      " [-2.0624335 ]\n",
      " [ 0.21953249]\n",
      " [ 0.70446035]]\n"
     ]
    }
   ],
   "source": [
    "a = np.random.randn(5,1) # 矩阵\n",
    "print(a,a.T)\n",
    "assert(a.shape == (5,1)) # 相当于代码文档\n",
    "a.reshape((1,5))\n",
    "print(a)"
   ]
  }
 ],
 "metadata": {
  "kernelspec": {
   "display_name": "yijm",
   "language": "python",
   "name": "python3"
  },
  "language_info": {
   "codemirror_mode": {
    "name": "ipython",
    "version": 3
   },
   "file_extension": ".py",
   "mimetype": "text/x-python",
   "name": "python",
   "nbconvert_exporter": "python",
   "pygments_lexer": "ipython3",
   "version": "3.8.20"
  }
 },
 "nbformat": 4,
 "nbformat_minor": 2
}
